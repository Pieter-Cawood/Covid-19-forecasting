{
 "cells": [
  {
   "cell_type": "code",
   "execution_count": 1,
   "metadata": {},
   "outputs": [],
   "source": [
    "import numpy as np\n",
    "np.set_printoptions(precision=None, suppress=True) \n",
    "import pandas as pd \n",
    "import datetime\n",
    "import matplotlib.pyplot as plt\n",
    "plt.style.use(\"fivethirtyeight\")\n",
    "from math import sqrt\n",
    "from scipy.stats import variation, spearmanr, boxcox\n",
    "from scipy.special import inv_boxcox\n",
    "from statsmodels.tsa.stattools import adfuller\n",
    "from statsmodels.stats.diagnostic import acorr_ljungbox\n",
    "from statsmodels.tsa.holtwinters import ExponentialSmoothing\n",
    "import warnings\n",
    "warnings.simplefilter('ignore', ConvergenceWarning)\n",
    "from statsmodels.tools.sm_exceptions import ConvergenceWarning\n",
    "from IPython.display import display, HTML\n",
    "#Sklearn imports\n",
    "from sklearn.metrics import mean_absolute_error\n",
    "from sklearn.preprocessing import MinMaxScaler, StandardScaler, PowerTransformer\n",
    "from sklearn.compose import ColumnTransformer\n",
    "from sklearn.ensemble import RandomForestRegressor\n",
    "from sklearn.pipeline import Pipeline\n",
    "#Keras imports\n",
    "from tensorflow.keras.wrappers.scikit_learn import KerasRegressor\n",
    "from tensorflow.keras.models import Sequential\n",
    "from tensorflow.keras.layers import LSTM,Dense,Input, LeakyReLU, Dropout\n",
    "from tensorflow.keras.optimizers import Adam, SGD\n",
    "from tensorflow.keras.utils import plot_model\n",
    "from tensorflow.keras.preprocessing.sequence import TimeseriesGenerator\n",
    "#ARIMA imports\n",
    "import pmdarima as pm\n",
    "from pmdarima import pipeline as arimapipe\n",
    "from pmdarima import preprocessing as ppc\n",
    "#Optimization imports\n",
    "from skopt import gp_minimize\n",
    "from skopt.space import Real, Categorical, Integer \n",
    "from skopt.utils import use_named_args\n",
    "from fbprophet import Prophet\n",
    "from tsfeatures import tsfeatures\n",
    "import os\n",
    "os.environ[\"CUDA_VISIBLE_DEVICES\"] = \"-1\"  # Disabling GPU"
   ]
  },
  {
   "cell_type": "markdown",
   "metadata": {},
   "source": [
    "**Import dataset**"
   ]
  },
  {
   "cell_type": "code",
   "execution_count": 2,
   "metadata": {},
   "outputs": [],
   "source": [
    "df = pd.read_csv(\"data/covid19.csv\", \n",
    "                 dtype = {\"Country/Region\": str, \"Province/State\": str, \"Latitude\": float, \"Longitude\": float, \n",
    "                 \"Confirmed\": float, \"Recovered\": float, \"Deaths\": float, \"Date\": str})\n",
    "df[\"Confirmed\"].fillna(0, inplace = True)\n",
    "df[\"Deaths\"].fillna(0, inplace = True)\n",
    "df[\"Recovered\"].fillna(0, inplace = True)"
   ]
  },
  {
   "cell_type": "code",
   "execution_count": 3,
   "metadata": {},
   "outputs": [],
   "source": [
    "\"\"\"\n",
    "Analytic functions\n",
    "\n",
    "\"\"\"\n",
    "\n",
    "def smape(actual, predict):\n",
    "    \"\"\"Symmetric mean absolute percentage error\"\"\"\n",
    "    return (100 / len(actual)) *\\\n",
    "        ((np.sum(np.abs(predict - actual) / \n",
    "         (np.abs(actual) + np.abs(predict)) / 2)))\n",
    "\n",
    "def analyze_forecast(train_values, test_values, predict_values):\n",
    "\n",
    "    \"\"\"Display a table of measurements\"\"\"\n",
    "    df_table = pd.DataFrame()\n",
    "    df_table[\"sMAPE\"] = [smape(test_values.values, predict_values.values)]\n",
    "    #Scale independent measure\n",
    "   # df_table[\"Smooth-StdDiff\"] = np.std(np.diff(np.squeeze(train_values)))/\\\n",
    "   #                                  np.abs(np.mean(np.diff(np.squeeze(train_values))))\n",
    "    df_table[\"Smooth-Variation\"] = variation(train_values)\n",
    "    adftest = adfuller(train_values, regression= 'ct')\n",
    "    #df_table[\"ADF Test\"] = [adftest[0]]\n",
    "   # df_table[\"ADF PVal\"] = [adftest[1]]\n",
    "    df_table[\"SVD entropy\"] =  svd_entropy(np.squeeze(train_values), normalize=True)\n",
    "   # df_table[\"Sample entropy\"] =  sampen(np.squeeze(train_values))\n",
    "   # df_table[\"Spectral\"] =  spectral_entropy(np.squeeze(train_values), 100)\n",
    "    #df_table[\"Defluctuation\"] = dfa(np.squeeze(train_values.astype(np.float32)))\n",
    "    display(HTML(df_table.to_html(index = False)))     "
   ]
  },
  {
   "cell_type": "code",
   "execution_count": 4,
   "metadata": {},
   "outputs": [],
   "source": [
    "def split_featured_data(df, feature, country,\n",
    "                        observation_start, observation_end, test_date):  \n",
    "    df = df.copy()\n",
    "    data = df[df[\"Country/Region\"] == country]   \n",
    "    #Sum sub regions daily counts\n",
    "    data = data.groupby(\"Date\")[[\"Confirmed\", \"Deaths\", \"Recovered\"]].sum().reset_index()\n",
    "    data = data[[\"Date\", feature]]\n",
    "    data = data.set_index(\"Date\")\n",
    "    data['unique_id'] = country\n",
    "    #remove 0 values - made large plots\n",
    "    data = data[data[feature] != 0]\n",
    "    smooved_data = data.rolling(2, min_periods = 2).mean()\n",
    "    #find indices of training data\n",
    "    i_start = np.where(data.index.to_numpy() == observation_start)[0][0]  \n",
    "    i_end = np.where(data.index.to_numpy() == observation_end)[0][0] \n",
    "    i_validate = np.where(data.index.to_numpy() == test_date)[0][0] \n",
    "    x = smooved_data[i_start:i_end]\n",
    "    y = data[i_end:i_validate]\n",
    "    y = y.drop(columns=['unique_id'])\n",
    "    x = x.astype('int32')\n",
    "    y = y.astype('int32')\n",
    "                    #Meta features to include\n",
    "                     #SVD entropy & Smoothness with variation : higest Spearman's correlation\n",
    "                    #Last two positions in data [-2:-1]\n",
    "    data = data.rename(columns={\"Date\": \"ds\", \"Confirmed\":\"y\"})\n",
    "    # Add tsfeatures\n",
    "    tsfeats = tsfeatures(data, 7)\n",
    "    tsfeats.insert(0, 'svd_entropy', svd_entropy(np.squeeze(x), normalize=True))\n",
    "    tsfeats.insert(0, 'variation', variation(np.squeeze(x)))\n",
    "        \n",
    "    # Remove these, only required by tsfeatures\n",
    "    data = data.rename(columns={\"ds\": \"Date\", \"y\":\"Confirmed\"})\n",
    "    data = data.drop(columns=['unique_id'])\n",
    "    return data, x, y, tsfeats"
   ]
  },
  {
   "cell_type": "markdown",
   "metadata": {},
   "source": [
    "# Base models"
   ]
  },
  {
   "cell_type": "code",
   "execution_count": 5,
   "metadata": {},
   "outputs": [],
   "source": [
    "def holt(df, feature, country, \n",
    "         observation_start, observation_end, test_date): \n",
    "    #Split data \n",
    "    data, x, y, meta_features = split_featured_data(df, feature, country, \n",
    "                                     observation_start, observation_end, test_date)\n",
    "    box_cox_train = boxcox(np.squeeze(x.values))\n",
    "    #HW model\n",
    "    model = ExponentialSmoothing(box_cox_train[0], trend='add', seasonal=None).fit(\n",
    "            use_basinhopping= True,\n",
    "            smoothing_level = 0.6)\n",
    "    forecasts = model.forecast(len(y))\n",
    "    #inverese\n",
    "    forecasts = inv_boxcox(forecasts, box_cox_train[1])\n",
    "    return forecasts.astype(np.int), np.squeeze(y.values), meta_features"
   ]
  },
  {
   "cell_type": "code",
   "execution_count": 6,
   "metadata": {},
   "outputs": [],
   "source": [
    "def arima(df, feature, country, \n",
    "         observation_start, observation_end, test_date): \n",
    "    #Split data \n",
    "    data, x, y, meta_features = split_featured_data(df, feature, country, \n",
    "                                     observation_start, observation_end, test_date)\n",
    "    #ARIMA model\n",
    "    boxcox = ppc.BoxCoxEndogTransformer(lmbda = None, lmbda2=5)\n",
    "    pipe = arimapipe.Pipeline([\n",
    "        (\"boxcox\", boxcox), \n",
    "        (\"arima\", pm.AutoARIMA(\n",
    "                start_p = 0, start_q = 0,  \n",
    "                test = \"adf\", \n",
    "                max_p = 5, max_q = 5,\n",
    "                seasonal = False, m = 1,\n",
    "                d = None,              \n",
    "                trace = False,\n",
    "                stepwise = False,          #Parallelized \n",
    "                suppress_warnings = True,\n",
    "                error_action = \"ignore\",\n",
    "                return_valid_fits = True\n",
    "        ))])\n",
    "    pipe.fit(x.values)\n",
    "    forecasts  = pipe.predict(len(y))\n",
    "    return forecasts.astype(np.int), np.squeeze(y.values), meta_features"
   ]
  },
  {
   "cell_type": "code",
   "execution_count": 7,
   "metadata": {},
   "outputs": [],
   "source": [
    "def prophet(df, feature, country, \n",
    "         observation_start, observation_end, test_date): \n",
    "    #Split data \n",
    "    data, x, y, meta_features = split_featured_data(df, feature, country, observation_start, observation_end, test_date)\n",
    "    prophet_x = x.reset_index().copy()\n",
    "    prophet_x.columns = ['ds','y']\n",
    "    #Prophet model\n",
    "    model = Prophet(growth = 'linear',changepoint_prior_scale = 0.5,n_changepoints = 14,\n",
    "                    daily_seasonality=False, yearly_seasonality=False)\n",
    "    model.fit(prophet_x)\n",
    "    future_df = model.make_future_dataframe(periods=len(y))\n",
    "    forecasts = model.predict(future_df)\n",
    "    \n",
    "    forecasts = forecasts[forecasts['ds'] >= observation_end]\n",
    "    forecasts = [forecast for forecast in forecasts.yhat]\n",
    "    return np.array(forecasts).astype(np.int), np.squeeze(y.values), meta_features"
   ]
  },
  {
   "cell_type": "code",
   "execution_count": 8,
   "metadata": {},
   "outputs": [],
   "source": [
    "def lstm(df, feature, country, \n",
    "         observation_start, observation_end, test_date): \n",
    "    #Split data \n",
    "    data, x, y, meta_features = split_featured_data(df, feature, country, \n",
    "                                     observation_start, observation_end, test_date)\n",
    "    #Scale data\n",
    "    scaler = MinMaxScaler().fit(x)\n",
    "    train_scaled = scaler.transform(x)\n",
    "    #LSTM model\n",
    "    n_observations = 8\n",
    "    model = Sequential()\n",
    "    model.add(Input(shape = (n_observations, 1)))\n",
    "    model.add(LSTM(units = 192, return_sequences = True, activation = \"tanh\", recurrent_activation = \"sigmoid\"))\n",
    "    model.add(LSTM(units = 384, return_sequences = True, activation = \"tanh\", recurrent_activation = \"sigmoid\"))\n",
    "    model.add(LSTM(units = 384, activation = \"tanh\", recurrent_activation = \"sigmoid\"))\n",
    "    model.add(Dense(units = 1, activation = None))\n",
    "    model.compile(optimizer = Adam(lr=0.00001), loss = \"mae\") \n",
    "    generator = TimeseriesGenerator(train_scaled, train_scaled, length = n_observations, batch_size = 4) \n",
    "    model.fit(generator, verbose = 0, epochs = 110) \n",
    "    #Predictions\n",
    "    forecasts = []\n",
    "    batch = (train_scaled[-n_observations:]).reshape((1, n_observations, 1))\n",
    "    for entry in range(len(y)): \n",
    "        forecast = model.predict(batch)[0]\n",
    "        forecasts.append(forecast) \n",
    "        batch = np.append(batch[:,1:,:],[[forecast]], axis = 1)\n",
    "    return np.squeeze(scaler.inverse_transform(forecasts)).astype(np.int), np.squeeze(y.values), meta_features"
   ]
  },
  {
   "cell_type": "code",
   "execution_count": 9,
   "metadata": {},
   "outputs": [],
   "source": [
    "def get_base_model_data(models : list, countries : list, features : list, \n",
    "                        start_date, end_date, validate_date):\n",
    "    \"\"\"\n",
    "    Runs the base models to make forecast data and retrieves meta-data for the curve that was forecast\n",
    "    \n",
    "    \n",
    "    \"\"\"\n",
    "    x = np.ndarray((0, len(models)))\n",
    "    y = np.ndarray((0, ))\n",
    "    all_scores = []\n",
    "    stored_targets = False\n",
    "    meta_features_per_curve = {}\n",
    "    for country in countries:\n",
    "        print(country)\n",
    "        meta_values = []\n",
    "        for feature in features:\n",
    "            forecast_values = []\n",
    "            scores = []\n",
    "            targets_stored = False\n",
    "            for model in models:\n",
    "                #Forecast \n",
    "                forecast, actual, meta_features = models[model](df, feature, country, \n",
    "                                                 start_date, end_date, validate_date)\n",
    "                #Store results\n",
    "                forecast_values.append(forecast)\n",
    "                scores.append(smape(actual, forecast))\n",
    "                meta_values.append(meta_features)\n",
    "                #Only use first model's actual return\n",
    "                if not targets_stored:\n",
    "                    y = np.hstack((actual.T, y))\n",
    "                    targets_stored = True\n",
    "                    \n",
    "            x = np.vstack((np.array(forecast_values).T, x))\n",
    "    \n",
    "            #Store sMAPE scores\n",
    "            all_scores.append(scores)\n",
    "            \n",
    "        #Store meta features with forecasts\n",
    "        meta_features_per_curve[country] = meta_values \n",
    "        \n",
    "    #Stack \n",
    "    return x, y, np.array(all_scores), np.array(meta_features_per_curve)"
   ]
  },
  {
   "cell_type": "markdown",
   "metadata": {},
   "source": [
    "**Conifg**"
   ]
  },
  {
   "cell_type": "code",
   "execution_count": 10,
   "metadata": {},
   "outputs": [],
   "source": [
    "train_start_date = \"2020-04-01\"\n",
    "train_end_date = \"2020-05-01\"\n",
    "test_start_date = \"2020-05-15\"\n",
    "test_end_date = \"2020-06-14\"\n",
    "validate_date = \"2020-06-28\"\n",
    "\n",
    "models = {'holt': holt,\n",
    "          'arima': arima,\n",
    "          'prophet': prophet,\n",
    "          'lstm': lstm}\n",
    "\n",
    "countries_to_forecast = [\"South Africa\", \"Italy\", \"US\", \"Russia\",\n",
    "                         \"United Kingdom\", \"Peru\", \"Algeria\", \"Japan\", \n",
    "                         \"Brazil\", \"Mexico\", \"Australia\", \"Germany\",\n",
    "                         \"Poland\", \"Turkey\", \"India\", \"Kenya\",\n",
    "                         \"Lebanon\", \"Chile\", \"Bangladesh\", \"France\"]\n",
    "\n",
    "\n",
    "features = [\"Confirmed\"]\n",
    "load_from_file = True"
   ]
  },
  {
   "cell_type": "markdown",
   "metadata": {},
   "source": [
    "**Base models Phase-1 predictions** <br><br>\n",
    "train_x: Phase 1 base models' forecasts (Meta-learning inputs)<br>\n",
    "train_y: Phase 1 targets <br>"
   ]
  },
  {
   "cell_type": "code",
   "execution_count": 11,
   "metadata": {},
   "outputs": [],
   "source": [
    "if not load_from_file:\n",
    "    train_x, train_y, train_score, train_meta_features = get_base_model_data(models, countries_to_forecast, features, train_start_date, train_end_date, test_start_date)\n",
    "    np.save(\"train_x_14_confirmed\", train_x)\n",
    "    np.save(\"train_y_14_confirmed\", train_y)\n",
    "    np.save(\"train_score_14_confirmed\", train_score)\n",
    "    np.save(\"train_metas_14\", train_meta_features)\n",
    "else:\n",
    "    train_x = np.load(\"train_x_14_confirmed.npy\")\n",
    "    train_y = np.load(\"train_y_14_confirmed.npy\")\n",
    "    train_score = np.load(\"train_score_14_confirmed.npy\") \n",
    "    train_meta_features = np.load(\"train_metas_14.npy\", allow_pickle=True)"
   ]
  },
  {
   "cell_type": "markdown",
   "metadata": {},
   "source": [
    "**Base models Phase-2 predictions** <br><br>\n",
    "test_x: Phase 2 base models' forecasts (Meta-learner inputs) <br>\n",
    "test_y: Phase 2 targets"
   ]
  },
  {
   "cell_type": "code",
   "execution_count": 12,
   "metadata": {},
   "outputs": [],
   "source": [
    "if not load_from_file:\n",
    "    test_x, test_y, test_score, test_meta_features = get_base_model_data(models, countries_to_forecast, features, test_start_date, test_end_date, validate_date)\n",
    "    np.save(\"test_x_14_confirmed\", test_x)\n",
    "    np.save(\"test_y_14_confirmed\", test_y)\n",
    "    np.save(\"test_score_14_confirmed\", test_score)\n",
    "    np.save(\"test_metas_14_confirmed\", test_meta_features)\n",
    "else:\n",
    "    test_x = np.load(\"test_x_14_confirmed.npy\")\n",
    "    test_y = np.load(\"test_y_14_confirmed.npy\")\n",
    "    test_score = np.load(\"test_score_14_confirmed.npy\")\n",
    "    test_meta_features = np.load(\"test_metas_14_confirmed.npy\", allow_pickle=True)"
   ]
  },
  {
   "cell_type": "code",
   "execution_count": 13,
   "metadata": {},
   "outputs": [],
   "source": [
    "train_meta_features = train_meta_features.tolist()\n",
    "test_meta_features = test_meta_features.tolist()"
   ]
  },
  {
   "cell_type": "code",
   "execution_count": 14,
   "metadata": {},
   "outputs": [],
   "source": [
    "train_metas = {}\n",
    "for country in train_meta_features.copy():\n",
    "    for feat in ['unique_id', 'series_length', 'hurst','hw_gamma', 'hw_alpha', 'hw_beta', 'entropy', 'nperiods', 'alpha', 'beta',\n",
    "            'spike', 'linearity', 'crossing_points', 'seasonal_period', 'curvature', 'e_acf','e_acf1', 'e_acf10', 'trend']:\n",
    "        try:\n",
    "            train_meta_features[country][0] = train_meta_features[country][0].drop(columns=[feat])\n",
    "        except:\n",
    "            do_nothing = True\n",
    "            \n",
    "    train_metas[country] = train_meta_features[country][0]\n",
    "    \n",
    "test_metas = {}  \n",
    "for country in test_meta_features.copy():\n",
    "    for feat in ['unique_id', 'series_length', 'hurst','hw_gamma', 'hw_alpha', 'hw_beta', 'entropy', 'nperiods', 'alpha', 'beta',\n",
    "            'spike', 'linearity', 'crossing_points', 'seasonal_period', 'curvature', 'e_acf','e_acf1', 'e_acf10', 'trend']:\n",
    "        try:\n",
    "            test_meta_features[country][0] = test_meta_features[country][0].drop(columns=[feat])\n",
    "        except:\n",
    "            do_nothing = True\n",
    "            \n",
    "    test_metas[country] = test_meta_features[country][0]"
   ]
  },
  {
   "cell_type": "markdown",
   "metadata": {},
   "source": [
    "**Analyse training data**"
   ]
  },
  {
   "cell_type": "code",
   "execution_count": 15,
   "metadata": {},
   "outputs": [
    {
     "data": {
      "text/html": [
       "<div>\n",
       "<style scoped>\n",
       "    .dataframe tbody tr th:only-of-type {\n",
       "        vertical-align: middle;\n",
       "    }\n",
       "\n",
       "    .dataframe tbody tr th {\n",
       "        vertical-align: top;\n",
       "    }\n",
       "\n",
       "    .dataframe thead th {\n",
       "        text-align: right;\n",
       "    }\n",
       "</style>\n",
       "<table border=\"1\" class=\"dataframe\">\n",
       "  <thead>\n",
       "    <tr style=\"text-align: right;\">\n",
       "      <th></th>\n",
       "      <th>Model</th>\n",
       "      <th>sMAPE</th>\n",
       "      <th>variation</th>\n",
       "      <th>svd_entropy</th>\n",
       "      <th>unitroot_pp</th>\n",
       "      <th>unitroot_kpss</th>\n",
       "      <th>stability</th>\n",
       "      <th>seasonal_strength</th>\n",
       "      <th>peak</th>\n",
       "      <th>trough</th>\n",
       "      <th>...</th>\n",
       "      <th>garch_r2</th>\n",
       "      <th>flat_spots</th>\n",
       "      <th>arch_lm</th>\n",
       "      <th>x_acf1</th>\n",
       "      <th>x_acf10</th>\n",
       "      <th>diff1_acf1</th>\n",
       "      <th>diff1_acf10</th>\n",
       "      <th>diff2_acf1</th>\n",
       "      <th>diff2_acf10</th>\n",
       "      <th>seas_acf1</th>\n",
       "    </tr>\n",
       "  </thead>\n",
       "  <tbody>\n",
       "    <tr>\n",
       "      <th>0</th>\n",
       "      <td>holt</td>\n",
       "      <td>0.214861</td>\n",
       "      <td>0.427430</td>\n",
       "      <td>0.058922</td>\n",
       "      <td>2.917437</td>\n",
       "      <td>2.518525</td>\n",
       "      <td>1.000787</td>\n",
       "      <td>0.745353</td>\n",
       "      <td>4</td>\n",
       "      <td>6</td>\n",
       "      <td>...</td>\n",
       "      <td>0.315828</td>\n",
       "      <td>98</td>\n",
       "      <td>0.999955</td>\n",
       "      <td>0.978540</td>\n",
       "      <td>7.660029</td>\n",
       "      <td>0.966212</td>\n",
       "      <td>8.124293</td>\n",
       "      <td>-0.053195</td>\n",
       "      <td>0.519378</td>\n",
       "      <td>0.837049</td>\n",
       "    </tr>\n",
       "    <tr>\n",
       "      <th>1</th>\n",
       "      <td>holt</td>\n",
       "      <td>1.608215</td>\n",
       "      <td>0.178347</td>\n",
       "      <td>0.039300</td>\n",
       "      <td>-0.959678</td>\n",
       "      <td>3.588354</td>\n",
       "      <td>1.030042</td>\n",
       "      <td>0.507861</td>\n",
       "      <td>3</td>\n",
       "      <td>6</td>\n",
       "      <td>...</td>\n",
       "      <td>0.317014</td>\n",
       "      <td>86</td>\n",
       "      <td>0.999954</td>\n",
       "      <td>0.990900</td>\n",
       "      <td>8.903286</td>\n",
       "      <td>0.976324</td>\n",
       "      <td>7.965228</td>\n",
       "      <td>-0.029439</td>\n",
       "      <td>0.380112</td>\n",
       "      <td>0.927454</td>\n",
       "    </tr>\n",
       "    <tr>\n",
       "      <th>2</th>\n",
       "      <td>holt</td>\n",
       "      <td>5.777405</td>\n",
       "      <td>0.403138</td>\n",
       "      <td>0.072079</td>\n",
       "      <td>2.505572</td>\n",
       "      <td>3.828985</td>\n",
       "      <td>0.979649</td>\n",
       "      <td>0.733166</td>\n",
       "      <td>3</td>\n",
       "      <td>7</td>\n",
       "      <td>...</td>\n",
       "      <td>0.247697</td>\n",
       "      <td>80</td>\n",
       "      <td>0.999989</td>\n",
       "      <td>0.983203</td>\n",
       "      <td>8.243995</td>\n",
       "      <td>0.978352</td>\n",
       "      <td>8.337421</td>\n",
       "      <td>-0.023634</td>\n",
       "      <td>0.660009</td>\n",
       "      <td>0.881070</td>\n",
       "    </tr>\n",
       "    <tr>\n",
       "      <th>3</th>\n",
       "      <td>holt</td>\n",
       "      <td>1.332738</td>\n",
       "      <td>0.873691</td>\n",
       "      <td>0.091159</td>\n",
       "      <td>1.251856</td>\n",
       "      <td>3.802182</td>\n",
       "      <td>1.030342</td>\n",
       "      <td>0.156593</td>\n",
       "      <td>5</td>\n",
       "      <td>7</td>\n",
       "      <td>...</td>\n",
       "      <td>0.353068</td>\n",
       "      <td>88</td>\n",
       "      <td>0.999997</td>\n",
       "      <td>0.988691</td>\n",
       "      <td>8.749038</td>\n",
       "      <td>0.990761</td>\n",
       "      <td>8.883753</td>\n",
       "      <td>-0.152805</td>\n",
       "      <td>0.183727</td>\n",
       "      <td>0.916873</td>\n",
       "    </tr>\n",
       "    <tr>\n",
       "      <th>4</th>\n",
       "      <td>holt</td>\n",
       "      <td>5.747149</td>\n",
       "      <td>0.439203</td>\n",
       "      <td>0.081015</td>\n",
       "      <td>-0.292783</td>\n",
       "      <td>3.837494</td>\n",
       "      <td>1.030142</td>\n",
       "      <td>0.203779</td>\n",
       "      <td>6</td>\n",
       "      <td>7</td>\n",
       "      <td>...</td>\n",
       "      <td>0.001329</td>\n",
       "      <td>70</td>\n",
       "      <td>0.994761</td>\n",
       "      <td>0.992112</td>\n",
       "      <td>9.058154</td>\n",
       "      <td>0.406574</td>\n",
       "      <td>1.456750</td>\n",
       "      <td>-0.496608</td>\n",
       "      <td>0.247722</td>\n",
       "      <td>0.938067</td>\n",
       "    </tr>\n",
       "    <tr>\n",
       "      <th>...</th>\n",
       "      <td>...</td>\n",
       "      <td>...</td>\n",
       "      <td>...</td>\n",
       "      <td>...</td>\n",
       "      <td>...</td>\n",
       "      <td>...</td>\n",
       "      <td>...</td>\n",
       "      <td>...</td>\n",
       "      <td>...</td>\n",
       "      <td>...</td>\n",
       "      <td>...</td>\n",
       "      <td>...</td>\n",
       "      <td>...</td>\n",
       "      <td>...</td>\n",
       "      <td>...</td>\n",
       "      <td>...</td>\n",
       "      <td>...</td>\n",
       "      <td>...</td>\n",
       "      <td>...</td>\n",
       "      <td>...</td>\n",
       "      <td>...</td>\n",
       "    </tr>\n",
       "    <tr>\n",
       "      <th>75</th>\n",
       "      <td>lstm</td>\n",
       "      <td>0.772357</td>\n",
       "      <td>0.375400</td>\n",
       "      <td>0.099362</td>\n",
       "      <td>4.342308</td>\n",
       "      <td>2.406030</td>\n",
       "      <td>1.035271</td>\n",
       "      <td>0.508670</td>\n",
       "      <td>3</td>\n",
       "      <td>5</td>\n",
       "      <td>...</td>\n",
       "      <td>0.302152</td>\n",
       "      <td>88</td>\n",
       "      <td>0.999850</td>\n",
       "      <td>0.968739</td>\n",
       "      <td>6.984077</td>\n",
       "      <td>0.881969</td>\n",
       "      <td>6.774974</td>\n",
       "      <td>-0.496503</td>\n",
       "      <td>0.394526</td>\n",
       "      <td>0.784607</td>\n",
       "    </tr>\n",
       "    <tr>\n",
       "      <th>76</th>\n",
       "      <td>lstm</td>\n",
       "      <td>1.667776</td>\n",
       "      <td>0.120473</td>\n",
       "      <td>0.046900</td>\n",
       "      <td>7.280316</td>\n",
       "      <td>2.639874</td>\n",
       "      <td>1.025418</td>\n",
       "      <td>0.308619</td>\n",
       "      <td>3</td>\n",
       "      <td>5</td>\n",
       "      <td>...</td>\n",
       "      <td>0.130025</td>\n",
       "      <td>76</td>\n",
       "      <td>0.999421</td>\n",
       "      <td>0.954433</td>\n",
       "      <td>6.176655</td>\n",
       "      <td>0.830819</td>\n",
       "      <td>4.261927</td>\n",
       "      <td>-0.560910</td>\n",
       "      <td>0.397008</td>\n",
       "      <td>0.718197</td>\n",
       "    </tr>\n",
       "    <tr>\n",
       "      <th>77</th>\n",
       "      <td>lstm</td>\n",
       "      <td>0.469896</td>\n",
       "      <td>0.424486</td>\n",
       "      <td>0.061840</td>\n",
       "      <td>0.939721</td>\n",
       "      <td>3.167462</td>\n",
       "      <td>0.998255</td>\n",
       "      <td>0.138040</td>\n",
       "      <td>2</td>\n",
       "      <td>1</td>\n",
       "      <td>...</td>\n",
       "      <td>0.001570</td>\n",
       "      <td>73</td>\n",
       "      <td>0.999319</td>\n",
       "      <td>0.987690</td>\n",
       "      <td>8.600516</td>\n",
       "      <td>0.391062</td>\n",
       "      <td>1.525986</td>\n",
       "      <td>-0.531322</td>\n",
       "      <td>0.287252</td>\n",
       "      <td>0.906385</td>\n",
       "    </tr>\n",
       "    <tr>\n",
       "      <th>78</th>\n",
       "      <td>lstm</td>\n",
       "      <td>0.484328</td>\n",
       "      <td>1.033671</td>\n",
       "      <td>0.116685</td>\n",
       "      <td>1.757025</td>\n",
       "      <td>2.999539</td>\n",
       "      <td>0.930124</td>\n",
       "      <td>0.444559</td>\n",
       "      <td>6</td>\n",
       "      <td>2</td>\n",
       "      <td>...</td>\n",
       "      <td>0.023764</td>\n",
       "      <td>74</td>\n",
       "      <td>0.999954</td>\n",
       "      <td>0.983507</td>\n",
       "      <td>8.245949</td>\n",
       "      <td>0.968906</td>\n",
       "      <td>8.160581</td>\n",
       "      <td>-0.213148</td>\n",
       "      <td>0.173263</td>\n",
       "      <td>0.881263</td>\n",
       "    </tr>\n",
       "    <tr>\n",
       "      <th>79</th>\n",
       "      <td>lstm</td>\n",
       "      <td>1.323715</td>\n",
       "      <td>0.257724</td>\n",
       "      <td>0.139930</td>\n",
       "      <td>-0.292114</td>\n",
       "      <td>3.853735</td>\n",
       "      <td>1.028314</td>\n",
       "      <td>0.129374</td>\n",
       "      <td>1</td>\n",
       "      <td>3</td>\n",
       "      <td>...</td>\n",
       "      <td>0.013987</td>\n",
       "      <td>61</td>\n",
       "      <td>0.998161</td>\n",
       "      <td>0.990358</td>\n",
       "      <td>8.874590</td>\n",
       "      <td>0.296105</td>\n",
       "      <td>1.045511</td>\n",
       "      <td>-0.451972</td>\n",
       "      <td>0.434727</td>\n",
       "      <td>0.925420</td>\n",
       "    </tr>\n",
       "  </tbody>\n",
       "</table>\n",
       "<p>80 rows × 29 columns</p>\n",
       "</div>"
      ],
      "text/plain": [
       "   Model     sMAPE  variation  svd_entropy  unitroot_pp  unitroot_kpss  \\\n",
       "0   holt  0.214861   0.427430     0.058922     2.917437       2.518525   \n",
       "1   holt  1.608215   0.178347     0.039300    -0.959678       3.588354   \n",
       "2   holt  5.777405   0.403138     0.072079     2.505572       3.828985   \n",
       "3   holt  1.332738   0.873691     0.091159     1.251856       3.802182   \n",
       "4   holt  5.747149   0.439203     0.081015    -0.292783       3.837494   \n",
       "..   ...       ...        ...          ...          ...            ...   \n",
       "75  lstm  0.772357   0.375400     0.099362     4.342308       2.406030   \n",
       "76  lstm  1.667776   0.120473     0.046900     7.280316       2.639874   \n",
       "77  lstm  0.469896   0.424486     0.061840     0.939721       3.167462   \n",
       "78  lstm  0.484328   1.033671     0.116685     1.757025       2.999539   \n",
       "79  lstm  1.323715   0.257724     0.139930    -0.292114       3.853735   \n",
       "\n",
       "    stability  seasonal_strength  peak  trough  ...  garch_r2  flat_spots  \\\n",
       "0    1.000787           0.745353     4       6  ...  0.315828          98   \n",
       "1    1.030042           0.507861     3       6  ...  0.317014          86   \n",
       "2    0.979649           0.733166     3       7  ...  0.247697          80   \n",
       "3    1.030342           0.156593     5       7  ...  0.353068          88   \n",
       "4    1.030142           0.203779     6       7  ...  0.001329          70   \n",
       "..        ...                ...   ...     ...  ...       ...         ...   \n",
       "75   1.035271           0.508670     3       5  ...  0.302152          88   \n",
       "76   1.025418           0.308619     3       5  ...  0.130025          76   \n",
       "77   0.998255           0.138040     2       1  ...  0.001570          73   \n",
       "78   0.930124           0.444559     6       2  ...  0.023764          74   \n",
       "79   1.028314           0.129374     1       3  ...  0.013987          61   \n",
       "\n",
       "     arch_lm    x_acf1   x_acf10  diff1_acf1  diff1_acf10  diff2_acf1  \\\n",
       "0   0.999955  0.978540  7.660029    0.966212     8.124293   -0.053195   \n",
       "1   0.999954  0.990900  8.903286    0.976324     7.965228   -0.029439   \n",
       "2   0.999989  0.983203  8.243995    0.978352     8.337421   -0.023634   \n",
       "3   0.999997  0.988691  8.749038    0.990761     8.883753   -0.152805   \n",
       "4   0.994761  0.992112  9.058154    0.406574     1.456750   -0.496608   \n",
       "..       ...       ...       ...         ...          ...         ...   \n",
       "75  0.999850  0.968739  6.984077    0.881969     6.774974   -0.496503   \n",
       "76  0.999421  0.954433  6.176655    0.830819     4.261927   -0.560910   \n",
       "77  0.999319  0.987690  8.600516    0.391062     1.525986   -0.531322   \n",
       "78  0.999954  0.983507  8.245949    0.968906     8.160581   -0.213148   \n",
       "79  0.998161  0.990358  8.874590    0.296105     1.045511   -0.451972   \n",
       "\n",
       "    diff2_acf10  seas_acf1  \n",
       "0      0.519378   0.837049  \n",
       "1      0.380112   0.927454  \n",
       "2      0.660009   0.881070  \n",
       "3      0.183727   0.916873  \n",
       "4      0.247722   0.938067  \n",
       "..          ...        ...  \n",
       "75     0.394526   0.784607  \n",
       "76     0.397008   0.718197  \n",
       "77     0.287252   0.906385  \n",
       "78     0.173263   0.881263  \n",
       "79     0.434727   0.925420  \n",
       "\n",
       "[80 rows x 29 columns]"
      ]
     },
     "execution_count": 15,
     "metadata": {},
     "output_type": "execute_result"
    }
   ],
   "source": [
    "df_analyse = pd.DataFrame()\n",
    "forecast_length = 14\n",
    "#for model in models:\n",
    "i_mod = 0\n",
    "\n",
    "actual = train_y.reshape(len(countries_to_forecast)*len(features), forecast_length)\n",
    "col_names = ['Model', 'sMAPE']\n",
    "cols_assigned = False\n",
    "for model in models.keys():\n",
    "    forecasts = train_x[:,i_mod]\n",
    "    forecasts = forecasts.reshape(len(countries_to_forecast)*len(features), forecast_length)\n",
    "    i_forecast = 0\n",
    "    for forecast, country in zip(forecasts, countries_to_forecast):\n",
    "        act_vals = actual[i_forecast,:]\n",
    "        adftest = adfuller(act_vals)\n",
    "        # Meta features\n",
    "        result = [model, smape(act_vals, forecast)]\n",
    "        for feat, val in train_meta_features[country][0].items():\n",
    "            result.append(val.values[0])\n",
    "            if not cols_assigned:\n",
    "                col_names.append(feat)\n",
    "        cols_assigned = True\n",
    "        result = [result]\n",
    "        df_analyse = df_analyse.append(result, ignore_index=True)\n",
    "        i_forecast += 1              \n",
    "    i_mod += 1\n",
    "df_analyse.columns = col_names\n",
    "df_analyse"
   ]
  },
  {
   "cell_type": "markdown",
   "metadata": {},
   "source": [
    "Person's correlation test: <br>\n",
    "Values >= 0.5 have strong correlation"
   ]
  },
  {
   "cell_type": "code",
   "execution_count": 117,
   "metadata": {},
   "outputs": [
    {
     "name": "stdout",
     "output_type": "stream",
     "text": [
      "holt\n",
      "Avg sMAPE : 1.4211305510265553\n",
      "Spearman's corr [variation] = 0.29\n",
      "Spearman's corr [svd_entropy] = 0.27\n",
      "Spearman's corr [unitroot_pp] = 0.04\n",
      "Spearman's corr [unitroot_kpss] = 0.38\n",
      "Spearman's corr [stability] = 0.09\n",
      "Spearman's corr [seasonal_strength] = 0.28\n",
      "Spearman's corr [peak] = 0.22\n",
      "Spearman's corr [trough] = 0.29\n",
      "Spearman's corr [x_pacf5] = 0.12\n",
      "Spearman's corr [diff1x_pacf5] = 0.17\n",
      "Spearman's corr [diff2x_pacf5] = 0.11\n",
      "Spearman's corr [seas_pacf] = 0.09\n",
      "Spearman's corr [nonlinearity] = 0.34\n",
      "Spearman's corr [lumpiness] = 0.19\n",
      "Spearman's corr [arch_acf] = 0.09\n",
      "Spearman's corr [garch_acf] = 0.09\n",
      "Spearman's corr [arch_r2] = 0.04\n",
      "Spearman's corr [garch_r2] = 0.04\n",
      "Spearman's corr [flat_spots] = 0.08\n",
      "Spearman's corr [arch_lm] = 0.15\n",
      "Spearman's corr [x_acf1] = 0.13\n",
      "Spearman's corr [x_acf10] = 0.17\n",
      "Spearman's corr [diff1_acf1] = 0.05\n",
      "Spearman's corr [diff1_acf10] = 0.08\n",
      "Spearman's corr [diff2_acf1] = 0.23\n",
      "Spearman's corr [diff2_acf10] = 0.06\n",
      "Spearman's corr [seas_acf1] = 0.17\n",
      "arima\n",
      "Avg sMAPE : 1.5785019246171972\n",
      "Spearman's corr [variation] = 0.38\n",
      "Spearman's corr [svd_entropy] = 0.27\n",
      "Spearman's corr [unitroot_pp] = 0.32\n",
      "Spearman's corr [unitroot_kpss] = 0.51\n",
      "Spearman's corr [stability] = 0.32\n",
      "Spearman's corr [seasonal_strength] = 0.16\n",
      "Spearman's corr [peak] = 0.03\n",
      "Spearman's corr [trough] = 0.28\n",
      "Spearman's corr [x_pacf5] = 0.34\n",
      "Spearman's corr [diff1x_pacf5] = 0.34\n",
      "Spearman's corr [diff2x_pacf5] = 0.08\n",
      "Spearman's corr [seas_pacf] = 0.25\n",
      "Spearman's corr [nonlinearity] = 0.1\n",
      "Spearman's corr [lumpiness] = 0.19\n",
      "Spearman's corr [arch_acf] = 0.06\n",
      "Spearman's corr [garch_acf] = 0.06\n",
      "Spearman's corr [arch_r2] = 0.07\n",
      "Spearman's corr [garch_r2] = 0.07\n",
      "Spearman's corr [flat_spots] = 0.14\n",
      "Spearman's corr [arch_lm] = 0.22\n",
      "Spearman's corr [x_acf1] = 0.34\n",
      "Spearman's corr [x_acf10] = 0.36\n",
      "Spearman's corr [diff1_acf1] = 0.17\n",
      "Spearman's corr [diff1_acf10] = 0.25\n",
      "Spearman's corr [diff2_acf1] = 0.05\n",
      "Spearman's corr [diff2_acf10] = 0.08\n",
      "Spearman's corr [seas_acf1] = 0.36\n",
      "prophet\n",
      "Avg sMAPE : 2.345665996407648\n",
      "Spearman's corr [variation] = 0.35\n",
      "Spearman's corr [svd_entropy] = 0.25\n",
      "Spearman's corr [unitroot_pp] = 0.27\n",
      "Spearman's corr [unitroot_kpss] = 0.45\n",
      "Spearman's corr [stability] = 0.19\n",
      "Spearman's corr [seasonal_strength] = 0.25\n",
      "Spearman's corr [peak] = 0.12\n",
      "Spearman's corr [trough] = 0.29\n",
      "Spearman's corr [x_pacf5] = 0.31\n",
      "Spearman's corr [diff1x_pacf5] = 0.23\n",
      "Spearman's corr [diff2x_pacf5] = 0.09\n",
      "Spearman's corr [seas_pacf] = 0.35\n",
      "Spearman's corr [nonlinearity] = 0.2\n",
      "Spearman's corr [lumpiness] = 0.08\n",
      "Spearman's corr [arch_acf] = 0.04\n",
      "Spearman's corr [garch_acf] = 0.04\n",
      "Spearman's corr [arch_r2] = 0.0\n",
      "Spearman's corr [garch_r2] = 0.0\n",
      "Spearman's corr [flat_spots] = 0.24\n",
      "Spearman's corr [arch_lm] = 0.24\n",
      "Spearman's corr [x_acf1] = 0.3\n",
      "Spearman's corr [x_acf10] = 0.32\n",
      "Spearman's corr [diff1_acf1] = 0.12\n",
      "Spearman's corr [diff1_acf10] = 0.21\n",
      "Spearman's corr [diff2_acf1] = 0.03\n",
      "Spearman's corr [diff2_acf10] = 0.15\n",
      "Spearman's corr [seas_acf1] = 0.32\n",
      "lstm\n",
      "Avg sMAPE : 2.1599649995073253\n",
      "Spearman's corr [variation] = 0.49\n",
      "Spearman's corr [svd_entropy] = 0.31\n",
      "Spearman's corr [unitroot_pp] = 0.07\n",
      "Spearman's corr [unitroot_kpss] = 0.49\n",
      "Spearman's corr [stability] = 0.09\n",
      "Spearman's corr [seasonal_strength] = 0.2\n",
      "Spearman's corr [peak] = 0.1\n",
      "Spearman's corr [trough] = 0.1\n",
      "Spearman's corr [x_pacf5] = 0.11\n",
      "Spearman's corr [diff1x_pacf5] = 0.04\n",
      "Spearman's corr [diff2x_pacf5] = 0.01\n",
      "Spearman's corr [seas_pacf] = 0.06\n",
      "Spearman's corr [nonlinearity] = 0.24\n",
      "Spearman's corr [lumpiness] = 0.03\n",
      "Spearman's corr [arch_acf] = 0.05\n",
      "Spearman's corr [garch_acf] = 0.05\n",
      "Spearman's corr [arch_r2] = 0.05\n",
      "Spearman's corr [garch_r2] = 0.05\n",
      "Spearman's corr [flat_spots] = 0.13\n",
      "Spearman's corr [arch_lm] = 0.17\n",
      "Spearman's corr [x_acf1] = 0.11\n",
      "Spearman's corr [x_acf10] = 0.15\n",
      "Spearman's corr [diff1_acf1] = 0.02\n",
      "Spearman's corr [diff1_acf10] = 0.05\n",
      "Spearman's corr [diff2_acf1] = 0.09\n",
      "Spearman's corr [diff2_acf10] = 0.04\n",
      "Spearman's corr [seas_acf1] = 0.15\n"
     ]
    }
   ],
   "source": [
    "#Test each parameter's correlation with sMAPE\n",
    "for model in models.keys():\n",
    "    print(model)\n",
    "    df_new =df_analyse.loc[df_analyse['Model'] == model]\n",
    "    for column in df_new.columns:\n",
    "        if column != \"Model\":\n",
    "            if column == \"sMAPE\":\n",
    "                print(\"Avg sMAPE : \" + str(np.mean(df_new[\"sMAPE\"].values)))\n",
    "                continue\n",
    "                \n",
    "            corr = spearmanr(df_new[column].values, df_new[\"sMAPE\"].values)\n",
    "            print(\"Spearman's corr [\"+column+\"] = \" + str(round(abs(corr[0]),2)))"
   ]
  },
  {
   "cell_type": "markdown",
   "metadata": {},
   "source": [
    "For model:<br>\n",
    "holt : sMAPE is predictable by the SVD-Entropy  <br>\n",
    "arima : sMAPE is predictable by the Smooth-Var and SVD-Entropy <br>\n",
    "lstm : sMAPE is predictable by the Smooth-Var"
   ]
  },
  {
   "cell_type": "markdown",
   "metadata": {},
   "source": [
    "# Meta-learner"
   ]
  },
  {
   "cell_type": "markdown",
   "metadata": {},
   "source": [
    "**Learn from phase-1 data**"
   ]
  },
  {
   "cell_type": "code",
   "execution_count": 83,
   "metadata": {},
   "outputs": [],
   "source": [
    "def get_meta_params(train_x, train_y, n_calls=100):\n",
    "    \n",
    "    # Bayesian optimisation dimsensions\n",
    "    dimensions =[\n",
    "        Integer(low=1, high=5, name= 'layers'),\n",
    "        Integer(low=10, high=300, name= 'units'),\n",
    "        Integer(low=180, high=400, name= 'epochs'),\n",
    "        Real(low=1e-5, high=1e-3, prior='log-uniform', name='alpha')\n",
    "       ]\n",
    "    default_parameters = [3, 40, 200, 1e-4]\n",
    "    model_layers = 0\n",
    "    model_units = 0\n",
    "    model_lr = 0\n",
    "    optimizing=True\n",
    "    \n",
    "    #Create model\n",
    "    def _mlp_model():\n",
    "        model = Sequential()\n",
    "        model.add(Input(shape = train_x.shape[1]))\n",
    "        for _i in range(model_layers):\n",
    "            model.add(Dense(model_units, activation='relu'))\n",
    "        model.add(Dense(1))\n",
    "        opt = Adam(lr=model_lr)\n",
    "        model.compile(loss='mae', optimizer=opt)\n",
    "        return model\n",
    "    \n",
    "    @use_named_args(dimensions= dimensions)\n",
    "    def _opt_model(layers, units, epochs, alpha):\n",
    "        estimators = []\n",
    "        transformer = ColumnTransformer(transformers = [\n",
    "        ('base_model_data', StandardScaler(with_mean = False, with_std = False), [0,1]),\n",
    "        ('meta_features', MinMaxScaler((0.1, 0.9)), [2, 3])])\n",
    "        estimators.append(('transform', transformer))\n",
    "        #NN config\n",
    "        model_layers = layers\n",
    "        model_units = units\n",
    "        model_lr = alpha\n",
    "        #Optimer config\n",
    "        estimators.append(('mlp', KerasRegressor(\n",
    "            build_fn= _mlp_model,\n",
    "            epochs= epochs, \n",
    "            batch_size= 1, \n",
    "            verbose=0)))\n",
    "        \n",
    "        pipeline = Pipeline(estimators)\n",
    "        \n",
    "        if optimizing:  \n",
    "            pipeline.fit(train_x, train_y)   \n",
    "            prediction = pipeline.predict(train_x)   \n",
    "            return smape(prediction, train_y)\n",
    "        \n",
    "        else:\n",
    "            return pipeline\n",
    "   \n",
    "    #Find model hyperparameters\n",
    "    searched_params =  gp_minimize(_opt_model,\n",
    "                                dimensions, \n",
    "                                n_calls= n_calls,\n",
    "                                x0= default_parameters)\n",
    "    \n",
    "    #Create the model\n",
    "    return searched_params"
   ]
  },
  {
   "cell_type": "code",
   "execution_count": 84,
   "metadata": {},
   "outputs": [],
   "source": [
    "included_features = [1, 3, 4, 7]"
   ]
  },
  {
   "cell_type": "code",
   "execution_count": 85,
   "metadata": {},
   "outputs": [],
   "source": [
    "meta_features = []\n",
    "feature_names = col_names[2:]\n",
    "for feature in feature_names:\n",
    "    feats = []\n",
    "    for country in countries_to_forecast:\n",
    "        for day in range(forecast_length):\n",
    "            feats.append(train_metas[country][feature].values[0])\n",
    "    meta_features.append(feats)\n",
    "\n",
    "training_data = np.hstack((train_x, np.array(meta_features).T))"
   ]
  },
  {
   "cell_type": "code",
   "execution_count": 86,
   "metadata": {},
   "outputs": [],
   "source": [
    "meta_features = []\n",
    "feature_names = col_names[2:]\n",
    "for feature in feature_names:\n",
    "    feats = []\n",
    "    for country in countries_to_forecast:\n",
    "        for day in range(forecast_length):\n",
    "            feats.append(test_metas[country][feature].values[0])\n",
    "    meta_features.append(feats)\n",
    "\n",
    "testing_data = np.hstack((test_x, np.array(meta_features).T))"
   ]
  },
  {
   "cell_type": "code",
   "execution_count": 87,
   "metadata": {},
   "outputs": [],
   "source": [
    "fitting_x = np.vstack((training_data[:,included_features], testing_data[:,included_features]))\n",
    "fitting_y = np.hstack((train_y , test_y))"
   ]
  },
  {
   "cell_type": "code",
   "execution_count": 88,
   "metadata": {},
   "outputs": [],
   "source": [
    "meta_parameters = get_meta_params(fitting_x, fitting_y, 24)"
   ]
  },
  {
   "cell_type": "code",
   "execution_count": 89,
   "metadata": {},
   "outputs": [
    {
     "data": {
      "text/plain": [
       "[4, 283, 333, 0.0005777339845963781]"
      ]
     },
     "execution_count": 89,
     "metadata": {},
     "output_type": "execute_result"
    }
   ],
   "source": [
    "meta_parameters.x"
   ]
  },
  {
   "cell_type": "code",
   "execution_count": 90,
   "metadata": {},
   "outputs": [],
   "source": [
    "model_layers =  meta_parameters.x[0]\n",
    "model_units = meta_parameters.x[1]\n",
    "epochs = meta_parameters.x[2]\n",
    "opt = Adam(lr=meta_parameters.x[3])\n",
    "\n",
    "def _mlp_model():\n",
    "    model = Sequential()\n",
    "    model.add(Input([len(included_features)]))\n",
    "    for _i in range(model_layers):\n",
    "        model.add(Dense(model_units, activation='relu'))\n",
    "    model.add(Dense(1))\n",
    "    model.compile(loss='mae', optimizer=opt)\n",
    "    return model"
   ]
  },
  {
   "cell_type": "code",
   "execution_count": 91,
   "metadata": {},
   "outputs": [],
   "source": [
    "estimators = []\n",
    "transformer = ColumnTransformer(transformers=[\n",
    "    ('base_model_data', StandardScaler(with_mean= False, with_std = False), [0, 1]),\n",
    "    ('meta_features', MinMaxScaler((0.1, 0.9)), [2, 3])])\n",
    "estimators.append(('transform', transformer))\n",
    "estimators.append(('mlp', KerasRegressor(build_fn=_mlp_model, epochs= epochs,\n",
    "                                         batch_size= 1, verbose= 0)))\n",
    "pipeline = Pipeline(estimators)\n",
    "pipeline.fit(fitting_x, fitting_y);"
   ]
  },
  {
   "cell_type": "markdown",
   "metadata": {},
   "source": [
    "**Use optimal parameters**"
   ]
  },
  {
   "cell_type": "markdown",
   "metadata": {},
   "source": [
    "**Validation**"
   ]
  },
  {
   "cell_type": "code",
   "execution_count": 92,
   "metadata": {},
   "outputs": [],
   "source": [
    "#Validate second half's predictions\n",
    "forecasts = pipeline.predict(testing_data[:, included_features])"
   ]
  },
  {
   "cell_type": "code",
   "execution_count": 93,
   "metadata": {},
   "outputs": [
    {
     "data": {
      "text/plain": [
       "3.133195000769091"
      ]
     },
     "execution_count": 93,
     "metadata": {},
     "output_type": "execute_result"
    }
   ],
   "source": [
    "HOLT_MAPE = smape(test_x[:,0], test_y)\n",
    "HOLT_MAPE"
   ]
  },
  {
   "cell_type": "code",
   "execution_count": 94,
   "metadata": {},
   "outputs": [
    {
     "data": {
      "text/plain": [
       "0.5566868521694622"
      ]
     },
     "execution_count": 94,
     "metadata": {},
     "output_type": "execute_result"
    }
   ],
   "source": [
    "ARIMA_MAPE = smape(test_x[:,1], test_y)\n",
    "ARIMA_MAPE"
   ]
  },
  {
   "cell_type": "code",
   "execution_count": 95,
   "metadata": {},
   "outputs": [
    {
     "data": {
      "text/plain": [
       "0.8938182327364126"
      ]
     },
     "execution_count": 95,
     "metadata": {},
     "output_type": "execute_result"
    }
   ],
   "source": [
    "PROPHET_MAPE = smape(test_x[:,2], test_y)\n",
    "PROPHET_MAPE"
   ]
  },
  {
   "cell_type": "code",
   "execution_count": 96,
   "metadata": {},
   "outputs": [
    {
     "data": {
      "text/plain": [
       "0.7298952175858111"
      ]
     },
     "execution_count": 96,
     "metadata": {},
     "output_type": "execute_result"
    }
   ],
   "source": [
    "LSTM_MAPE = smape(test_x[:,3], test_y)\n",
    "LSTM_MAPE"
   ]
  },
  {
   "cell_type": "code",
   "execution_count": 97,
   "metadata": {},
   "outputs": [
    {
     "data": {
      "text/plain": [
       "0.6175730038053024"
      ]
     },
     "execution_count": 97,
     "metadata": {},
     "output_type": "execute_result"
    }
   ],
   "source": [
    "META_MAPE = smape(forecasts, test_y)\n",
    "META_MAPE"
   ]
  },
  {
   "cell_type": "markdown",
   "metadata": {},
   "source": [
    "## **Test data**"
   ]
  },
  {
   "cell_type": "code",
   "execution_count": 98,
   "metadata": {},
   "outputs": [],
   "source": [
    "train_start_date = \"2020-04-01\"\n",
    "train_end_date = \"2020-05-01\"\n",
    "test_start_date = \"2020-05-15\"\n",
    "test_end_date = \"2020-06-14\"\n",
    "validate_date = \"2020-06-28\"\n",
    "\n",
    "models = {'holt': holt,\n",
    "          'arima': arima,\n",
    "          'prophet': prophet,\n",
    "          'lstm': lstm}\n",
    "\n",
    "countries = [\"Saudi Arabia\", \"Portugal\", \"Egypt\", \"Iraq\", \"Ukraine\",\n",
    "             \"Morocco\", \"Netherlands\", \"Belgium\", \"Canada\", \"Sweden\"]\n",
    "\n",
    "#,  \n",
    "features = [\"Confirmed\"]\n",
    "load_from_file = True"
   ]
  },
  {
   "cell_type": "code",
   "execution_count": 99,
   "metadata": {},
   "outputs": [],
   "source": [
    "if not load_from_file:\n",
    "    _train_x, _train_y, _train_score, _train_meta_features = get_base_model_data(models, \n",
    "                                                                                 countries, \n",
    "                                                                                 features, \n",
    "                                                                                 train_start_date, \n",
    "                                                                                 train_end_date, \n",
    "                                                                                 test_start_date)\n",
    "    np.save(\"_train_x_14_confirmed\", _train_x)\n",
    "    np.save(\"_train_y_14_confirmed\", _train_y)\n",
    "    np.save(\"_train_score_14_confirmed\", _train_score)\n",
    "    np.save(\"_train_metas_14\", _train_meta_features)\n",
    "else:\n",
    "    _train_x = np.load(\"_train_x_14_confirmed.npy\")\n",
    "    _train_y = np.load(\"_train_y_14_confirmed.npy\")\n",
    "    _train_score = np.load(\"_train_score_14_confirmed.npy\") \n",
    "    _train_meta_features = np.load(\"_train_metas_14.npy\", allow_pickle=True)"
   ]
  },
  {
   "cell_type": "code",
   "execution_count": 100,
   "metadata": {},
   "outputs": [],
   "source": [
    "if not load_from_file:\n",
    "    _test_x, _test_y, _test_score, _test_meta_features = get_base_model_data(models, \n",
    "                                                                             countries, \n",
    "                                                                             features, \n",
    "                                                                             test_start_date, \n",
    "                                                                             test_end_date, \n",
    "                                                                             validate_date)\n",
    "    np.save(\"_test_x_14_confirmed\", _test_x)\n",
    "    np.save(\"_test_y_14_confirmed\", _test_y)\n",
    "    np.save(\"_test_score_14_confirmed\", _test_score)\n",
    "    np.save(\"_test_metas_14\", _test_meta_features)\n",
    "else:\n",
    "    _test_x = np.load(\"_test_x_14_confirmed.npy\")\n",
    "    _test_y = np.load(\"_test_y_14_confirmed.npy\")\n",
    "    _test_score = np.load(\"_test_score_14_confirmed.npy\")\n",
    "    _test_meta_features = np.load(\"_test_metas_14.npy\", allow_pickle=True)"
   ]
  },
  {
   "cell_type": "code",
   "execution_count": 101,
   "metadata": {},
   "outputs": [],
   "source": [
    "_train_meta_features = _train_meta_features.tolist()\n",
    "_test_meta_features = _test_meta_features.tolist()"
   ]
  },
  {
   "cell_type": "code",
   "execution_count": 102,
   "metadata": {},
   "outputs": [],
   "source": [
    "_train_metas = {}\n",
    "for country in _train_meta_features.copy():\n",
    "    for feat in ['unique_id', 'series_length', 'hurst','hw_gamma', 'hw_alpha', 'hw_beta', 'entropy', 'nperiods', 'alpha', 'beta',\n",
    "            'spike', 'linearity', 'crossing_points', 'seasonal_period', 'curvature', 'e_acf','e_acf1', 'e_acf10', 'trend']:\n",
    "        try:\n",
    "            train_meta_features[country][0] = _train_meta_features[country][0].drop(columns=[feat])\n",
    "        except:\n",
    "            do_nothing = True\n",
    "            \n",
    "    _train_metas[country] = _train_meta_features[country][0]\n",
    "    \n",
    "_test_metas = {}  \n",
    "for country in _test_meta_features.copy():\n",
    "    for feat in ['unique_id', 'series_length', 'hurst','hw_gamma', 'hw_alpha', 'hw_beta', 'entropy', 'nperiods', 'alpha', 'beta',\n",
    "            'spike', 'linearity', 'crossing_points', 'seasonal_period', 'curvature', 'e_acf','e_acf1', 'e_acf10', 'trend']:\n",
    "        try:\n",
    "            _test_meta_features[country][0] = _test_meta_features[country][0].drop(columns=[feat])\n",
    "        except:\n",
    "            do_nothing = True\n",
    "            \n",
    "    _test_metas[country] = _test_meta_features[country][0]"
   ]
  },
  {
   "cell_type": "code",
   "execution_count": 103,
   "metadata": {},
   "outputs": [],
   "source": [
    "meta_features = []\n",
    "feature_names = col_names[2:]\n",
    "for feature in feature_names:\n",
    "    feats = []\n",
    "    for country in countries:\n",
    "        for day in range(forecast_length):\n",
    "            feats.append(_train_metas[country][feature].values[0])\n",
    "    meta_features.append(feats)\n",
    "\n",
    "_training_data = np.hstack((_train_x, np.array(meta_features).T))"
   ]
  },
  {
   "cell_type": "code",
   "execution_count": 104,
   "metadata": {},
   "outputs": [],
   "source": [
    "meta_features = []\n",
    "feature_names = col_names[2:]\n",
    "for feature in feature_names:\n",
    "    feats = []\n",
    "    for country in countries:\n",
    "        for day in range(forecast_length):\n",
    "            feats.append(_test_metas[country][feature].values[0])\n",
    "    meta_features.append(feats)\n",
    "\n",
    "_testing_data = np.hstack((_test_x, np.array(meta_features).T))"
   ]
  },
  {
   "cell_type": "code",
   "execution_count": 105,
   "metadata": {},
   "outputs": [],
   "source": [
    "forecasts = pipeline.predict(_testing_data[:, included_features])"
   ]
  },
  {
   "cell_type": "code",
   "execution_count": 106,
   "metadata": {},
   "outputs": [
    {
     "data": {
      "text/plain": [
       "1.070608869502243"
      ]
     },
     "execution_count": 106,
     "metadata": {},
     "output_type": "execute_result"
    }
   ],
   "source": [
    "HOLT_MAPE = smape(_testing_data[:,0], _test_y)\n",
    "HOLT_MAPE"
   ]
  },
  {
   "cell_type": "code",
   "execution_count": 107,
   "metadata": {},
   "outputs": [
    {
     "data": {
      "text/plain": [
       "1.121819032894023"
      ]
     },
     "execution_count": 107,
     "metadata": {},
     "output_type": "execute_result"
    }
   ],
   "source": [
    "ARIMA_MAPE = smape(_testing_data[:,1], _test_y)\n",
    "ARIMA_MAPE"
   ]
  },
  {
   "cell_type": "code",
   "execution_count": 108,
   "metadata": {},
   "outputs": [
    {
     "data": {
      "text/plain": [
       "0.9087063600146275"
      ]
     },
     "execution_count": 108,
     "metadata": {},
     "output_type": "execute_result"
    }
   ],
   "source": [
    "PROPHET_MAPE = smape(_testing_data[:,2], _test_y)\n",
    "PROPHET_MAPE"
   ]
  },
  {
   "cell_type": "code",
   "execution_count": 109,
   "metadata": {},
   "outputs": [
    {
     "data": {
      "text/plain": [
       "1.7192908928699295"
      ]
     },
     "execution_count": 109,
     "metadata": {},
     "output_type": "execute_result"
    }
   ],
   "source": [
    "LSTM_MAPE = smape(_testing_data[:,3], _test_y)\n",
    "LSTM_MAPE"
   ]
  },
  {
   "cell_type": "code",
   "execution_count": 110,
   "metadata": {},
   "outputs": [
    {
     "data": {
      "text/plain": [
       "1.0376883696868433"
      ]
     },
     "execution_count": 110,
     "metadata": {},
     "output_type": "execute_result"
    }
   ],
   "source": [
    "META_MAPE = smape(forecasts, _test_y)\n",
    "META_MAPE"
   ]
  },
  {
   "cell_type": "code",
   "execution_count": 111,
   "metadata": {},
   "outputs": [],
   "source": [
    "def plot_forecast(forecasts, model, linestyle='-', linewidth=3):\n",
    "    forecasts.index = pd.to_datetime(forecasts.index)\n",
    "    plt.plot(forecasts, label = model + \" forecast\", linestyle=linestyle, linewidth=linewidth)\n",
    "    plt.legend(loc = \"best\")\n",
    "    plt.xticks(rotation = 45)"
   ]
  },
  {
   "cell_type": "code",
   "execution_count": 112,
   "metadata": {},
   "outputs": [],
   "source": [
    "forecast_start = datetime.datetime.strptime(test_end_date, \"%Y-%m-%d\")\n",
    "forecast_dates = [(forecast_start - datetime.timedelta(days = -x)).date().strftime(\"%Y-%m-%d\") \n",
    "                      for x in range(forecast_length)]"
   ]
  },
  {
   "cell_type": "code",
   "execution_count": 113,
   "metadata": {},
   "outputs": [
    {
     "data": {
      "image/png": "[encoded data removed]",
      "text/plain": [
       "<Figure size 864x360 with 1 Axes>"
      ]
     },
     "metadata": {},
     "output_type": "display_data"
    }
   ],
   "source": [
    "plt.figure(figsize = (12, 5))\n",
    "\n",
    "start_pos = forecast_length * 6\n",
    "end_pos = forecast_length * 7\n",
    "for index, model in enumerate(models):\n",
    "    mod_forecasts = pd.DataFrame(_test_x[:,index][start_pos:end_pos], columns = [feature])\n",
    "    mod_forecasts[\"Date\"] = forecast_dates\n",
    "    mod_forecasts = mod_forecasts.set_index(\"Date\")\n",
    "    plot_forecast(mod_forecasts, model, linewidth=2.5)\n",
    "    \n",
    "meta_df = pd.DataFrame(forecasts[start_pos:end_pos], columns = [feature])\n",
    "meta_df[\"Date\"] = forecast_dates\n",
    "meta_df = meta_df.set_index(\"Date\")\n",
    "plot_forecast(meta_df, \"meta\", ':')\n",
    "\n",
    "actual_df = pd.DataFrame(_test_y[start_pos:end_pos], columns = [feature])\n",
    "actual_df[\"Date\"] = forecast_dates\n",
    "actual_df = actual_df.set_index(\"Date\")\n",
    "\n",
    "plot_forecast(actual_df, \"actual\", '--')"
   ]
  }
 ],
 "metadata": {
  "kernelspec": {
   "display_name": "Python 3",
   "language": "python",
   "name": "python3"
  },
  "language_info": {
   "codemirror_mode": {
    "name": "ipython",
    "version": 3
   },
   "file_extension": ".py",
   "mimetype": "text/x-python",
   "name": "python",
   "nbconvert_exporter": "python",
   "pygments_lexer": "ipython3",
   "version": "3.7.6"
  }
 },
 "nbformat": 4,
 "nbformat_minor": 4
}
